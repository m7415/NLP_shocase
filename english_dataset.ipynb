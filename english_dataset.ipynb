{
 "cells": [
  {
   "cell_type": "code",
   "execution_count": 58,
   "metadata": {},
   "outputs": [
    {
     "name": "stderr",
     "output_type": "stream",
     "text": [
      "[nltk_data] Downloading package stopwords to /root/nltk_data...\n",
      "[nltk_data]   Package stopwords is already up-to-date!\n",
      "[nltk_data] Downloading package punkt to /root/nltk_data...\n",
      "[nltk_data]   Package punkt is already up-to-date!\n"
     ]
    },
    {
     "data": {
      "text/plain": [
       "True"
      ]
     },
     "execution_count": 58,
     "metadata": {},
     "output_type": "execute_result"
    }
   ],
   "source": [
    "# Imports nécessaires\n",
    "\n",
    "%matplotlib inline\n",
    "\n",
    "# Suppression de l'affichage des messages d'avertissement\n",
    "import warnings\n",
    "warnings.filterwarnings('ignore')\n",
    "import string\n",
    "\n",
    "from sklearn import model_selection\n",
    "from sklearn import set_config\n",
    "from sklearn.dummy import DummyClassifier\n",
    "from sklearn.ensemble import RandomForestClassifier\n",
    "from sklearn.feature_extraction.text import TfidfVectorizer\n",
    "from sklearn.linear_model import LogisticRegression\n",
    "from sklearn.metrics import classification_report, f1_score, accuracy_score, confusion_matrix\n",
    "from sklearn.model_selection import train_test_split\n",
    "from sklearn.naive_bayes import MultinomialNB\n",
    "from sklearn.neighbors import KNeighborsClassifier\n",
    "from sklearn.preprocessing import FunctionTransformer\n",
    "from sklearn.pipeline import Pipeline, make_pipeline\n",
    "from sklearn.tree import DecisionTreeClassifier\n",
    "\n",
    "import matplotlib.pyplot as plt\n",
    "import numpy as np\n",
    "import pandas as pd\n",
    "#import spacy\n",
    "import nltk\n",
    "from sklearn.svm import SVC\n",
    "\n",
    "import seaborn as sns\n",
    "\n",
    "# Pour éviter l'affichage tronqué des descriptions\n",
    "pd.set_option('display.max_colwidth', None)\n",
    "# Pour la visualisation des pipelines sklearn\n",
    "set_config(display='diagram')\n",
    "\n",
    "import nltk\n",
    "from nltk.corpus import stopwords\n",
    "from nltk.tokenize import word_tokenize\n",
    "nltk.download('stopwords')\n",
    "nltk.download('punkt')"
   ]
  },
  {
   "attachments": {},
   "cell_type": "markdown",
   "metadata": {},
   "source": [
    "# First experimentations with english dataset and simple models"
   ]
  },
  {
   "attachments": {},
   "cell_type": "markdown",
   "metadata": {},
   "source": [
    "## 1. Importation des données"
   ]
  },
  {
   "cell_type": "code",
   "execution_count": 59,
   "metadata": {},
   "outputs": [],
   "source": [
    "# Recuperation des données\n",
    "tweet_df = pd.read_csv('data/tweets_eng.csv', index_col=0)\n",
    "\n",
    "# Suppression des lignes avec des valeurs manquantes\n",
    "tweet_df = tweet_df.dropna()\n",
    "\n",
    "# Suppression des colonnes inutiles\n",
    "tweet_df = tweet_df.drop(columns=['selected_text'])"
   ]
  },
  {
   "cell_type": "code",
   "execution_count": 60,
   "metadata": {},
   "outputs": [
    {
     "data": {
      "text/html": [
       "<div>\n",
       "<style scoped>\n",
       "    .dataframe tbody tr th:only-of-type {\n",
       "        vertical-align: middle;\n",
       "    }\n",
       "\n",
       "    .dataframe tbody tr th {\n",
       "        vertical-align: top;\n",
       "    }\n",
       "\n",
       "    .dataframe thead th {\n",
       "        text-align: right;\n",
       "    }\n",
       "</style>\n",
       "<table border=\"1\" class=\"dataframe\">\n",
       "  <thead>\n",
       "    <tr style=\"text-align: right;\">\n",
       "      <th></th>\n",
       "      <th>text</th>\n",
       "      <th>sentiment</th>\n",
       "    </tr>\n",
       "    <tr>\n",
       "      <th>textID</th>\n",
       "      <th></th>\n",
       "      <th></th>\n",
       "    </tr>\n",
       "  </thead>\n",
       "  <tbody>\n",
       "    <tr>\n",
       "      <th>cb774db0d1</th>\n",
       "      <td>I`d have responded, if I were going</td>\n",
       "      <td>neutral</td>\n",
       "    </tr>\n",
       "    <tr>\n",
       "      <th>549e992a42</th>\n",
       "      <td>Sooo SAD I will miss you here in San Diego!!!</td>\n",
       "      <td>negative</td>\n",
       "    </tr>\n",
       "    <tr>\n",
       "      <th>088c60f138</th>\n",
       "      <td>my boss is bullying me...</td>\n",
       "      <td>negative</td>\n",
       "    </tr>\n",
       "    <tr>\n",
       "      <th>9642c003ef</th>\n",
       "      <td>what interview! leave me alone</td>\n",
       "      <td>negative</td>\n",
       "    </tr>\n",
       "    <tr>\n",
       "      <th>358bd9e861</th>\n",
       "      <td>Sons of ****, why couldn`t they put them on the releases we already bought</td>\n",
       "      <td>negative</td>\n",
       "    </tr>\n",
       "  </tbody>\n",
       "</table>\n",
       "</div>"
      ],
      "text/plain": [
       "                                                                                   text  \\\n",
       "textID                                                                                    \n",
       "cb774db0d1                                          I`d have responded, if I were going   \n",
       "549e992a42                                Sooo SAD I will miss you here in San Diego!!!   \n",
       "088c60f138                                                    my boss is bullying me...   \n",
       "9642c003ef                                               what interview! leave me alone   \n",
       "358bd9e861   Sons of ****, why couldn`t they put them on the releases we already bought   \n",
       "\n",
       "           sentiment  \n",
       "textID                \n",
       "cb774db0d1   neutral  \n",
       "549e992a42  negative  \n",
       "088c60f138  negative  \n",
       "9642c003ef  negative  \n",
       "358bd9e861  negative  "
      ]
     },
     "execution_count": 60,
     "metadata": {},
     "output_type": "execute_result"
    }
   ],
   "source": [
    "tweet_df.head()"
   ]
  },
  {
   "cell_type": "code",
   "execution_count": 61,
   "metadata": {},
   "outputs": [
    {
     "data": {
      "text/plain": [
       "sentiment\n",
       "neutral     11117\n",
       "positive     8582\n",
       "negative     7781\n",
       "Name: count, dtype: int64"
      ]
     },
     "execution_count": 61,
     "metadata": {},
     "output_type": "execute_result"
    }
   ],
   "source": [
    "tweet_df['sentiment'].value_counts()"
   ]
  },
  {
   "cell_type": "code",
   "execution_count": 62,
   "metadata": {},
   "outputs": [],
   "source": [
    "#drop the neutral tweets\n",
    "tweet_df = tweet_df[tweet_df['sentiment'] != 'neutral']"
   ]
  },
  {
   "cell_type": "code",
   "execution_count": 63,
   "metadata": {},
   "outputs": [],
   "source": [
    "# Convertit les genres en labels numériques (-1 et 1)\n",
    "tweet_df['sentiment'] = tweet_df['sentiment'].map({'negative': -1, 'positive': 1})\n",
    "# rename the column sentiment to label\n",
    "tweet_df.rename(columns={'sentiment': 'label'}, inplace=True)"
   ]
  },
  {
   "cell_type": "code",
   "execution_count": 64,
   "metadata": {},
   "outputs": [],
   "source": [
    "X_train, X_test, y_train, y_test = train_test_split(tweet_df['text'], tweet_df['label'], test_size=0.2, random_state=42, shuffle=True)"
   ]
  },
  {
   "attachments": {},
   "cell_type": "markdown",
   "metadata": {},
   "source": [
    "## 2. Preprocessing"
   ]
  },
  {
   "cell_type": "code",
   "execution_count": 65,
   "metadata": {},
   "outputs": [],
   "source": [
    "# download spacy model\n",
    "#!python3 -m spacy download en_core_web_sm"
   ]
  },
  {
   "cell_type": "code",
   "execution_count": 66,
   "metadata": {},
   "outputs": [],
   "source": [
    "from preprocessing import preprocess_texts, preprocess_text"
   ]
  },
  {
   "cell_type": "code",
   "execution_count": 67,
   "metadata": {},
   "outputs": [],
   "source": [
    "# preprocess X_train and X_test\n",
    "X_train_pre = preprocess_texts(X_train,'stem',True)\n",
    "X_test_pre = preprocess_texts(X_test, 'stem',True)"
   ]
  },
  {
   "cell_type": "code",
   "execution_count": 68,
   "metadata": {},
   "outputs": [],
   "source": [
    "# convert X_train_pre, X_test_pre, y_train, y_test to numpy array\n",
    "X_train_pre = np.array(X_train_pre)\n",
    "X_test_pre = np.array(X_test_pre)\n",
    "y_train = np.array(y_train)\n",
    "y_test = np.array(y_test)"
   ]
  },
  {
   "cell_type": "code",
   "execution_count": 69,
   "metadata": {},
   "outputs": [
    {
     "name": "stdout",
     "output_type": "stream",
     "text": [
      "total bereft fault everi way\n",
      "kate know heap awesom not work weekend\n",
      "wish go internet week\n",
      "stayin dustin tonight car hate\n",
      "not sound preacheri anyth iphon amaz havent issu sinc 20 firmwar wink wink\n",
      "love hat cool look like fun day love use word crikey\n",
      "im sad sad sad thought aunti stina come no look forward familyi miss dat im alon maui\n",
      "walah 2 still not get full idea\n",
      "thank agre httpbitly7vikc\n",
      "cant believ wasnt follow anatomi prac tmw tonight im structr lwr limb\n"
     ]
    }
   ],
   "source": [
    "# print the 10 first preprocessed texts\n",
    "for i in range(10):\n",
    "    print(X_train_pre[i])"
   ]
  },
  {
   "cell_type": "markdown",
   "metadata": {},
   "source": [
    "## X. Detection de sujet"
   ]
  },
  {
   "cell_type": "code",
   "execution_count": 71,
   "metadata": {},
   "outputs": [
    {
     "name": "stdout",
     "output_type": "stream",
     "text": [
      "[[0.1        0.1        0.1        ... 0.1        0.1        0.1       ]\n",
      " [0.1        0.1        0.1        ... 1.09995901 0.1        1.09997731]\n",
      " [0.1        0.1        0.1        ... 0.1        0.1        0.1       ]\n",
      " ...\n",
      " [0.1        0.1        0.1        ... 0.1        0.1        0.1       ]\n",
      " [0.1        0.1        1.0999879  ... 1.09999058 0.1        0.1       ]\n",
      " [0.1        0.1        0.1        ... 0.10000846 0.1        0.1       ]]\n",
      "(10, 14069)\n",
      "Topic 1:\n",
      "thank love follow im pleas\n",
      "Topic 2:\n",
      "sorri star im hear war\n",
      "Topic 3:\n",
      "sad im like look know\n",
      "Topic 4:\n",
      "na im want gon feel\n",
      "Topic 5:\n",
      "miss love think dont im\n",
      "Topic 6:\n",
      "day happi mother got mom\n",
      "Topic 7:\n",
      "im suck bore like night\n",
      "Topic 8:\n",
      "good morn love realli hope\n",
      "Topic 9:\n",
      "like dont im miss feel\n",
      "Topic 10:\n",
      "good think day great like\n",
      "[[0.01666706 0.01666706 0.016668   0.01666813 0.01666838 0.01666958\n",
      "  0.84998859 0.01666834 0.01666763 0.01666723]\n",
      " [0.01428802 0.01428707 0.01429264 0.0142877  0.01428814 0.01428738\n",
      "  0.87140571 0.01428753 0.01428767 0.01428813]\n",
      " [0.02500234 0.02500203 0.77495253 0.02500686 0.02501072 0.02500603\n",
      "  0.02500595 0.02500592 0.02500282 0.0250048 ]\n",
      " [0.01666721 0.01666951 0.01666816 0.01667032 0.01666822 0.01667258\n",
      "  0.01666836 0.84997778 0.01666808 0.01666978]\n",
      " [0.00769508 0.00769296 0.00769341 0.00769369 0.00769331 0.00769299\n",
      "  0.00769571 0.93075684 0.00769297 0.00769304]]\n"
     ]
    }
   ],
   "source": [
    "#topic modeling on the preprocessed tweets\n",
    "\n",
    "from sklearn.decomposition import LatentDirichletAllocation\n",
    "from sklearn.feature_extraction.text import CountVectorizer\n",
    "\n",
    "# create a CountVectorizer object\n",
    "count_vectorizer = CountVectorizer(stop_words='english')\n",
    "\n",
    "# fit and transform X_train_pre\n",
    "count_train = count_vectorizer.fit_transform(X_train_pre)\n",
    "\n",
    "# transform X_test_pre\n",
    "count_test = count_vectorizer.transform(X_test_pre)\n",
    "\n",
    "# create a LDA object\n",
    "lda = LatentDirichletAllocation(n_components=10, random_state=42)\n",
    "\n",
    "# fit the LDA model on the training data\n",
    "lda.fit(count_train)\n",
    "\n",
    "# transform the training and test data\n",
    "lda_train = lda.transform(count_train)\n",
    "lda_test = lda.transform(count_test)\n",
    "\n",
    "# print the lda components\n",
    "print(lda.components_)\n",
    "print(lda.components_.shape)\n",
    "\n",
    "# print the top 5 words for each topic\n",
    "n_top_words = 5\n",
    "feature_names = count_vectorizer.get_feature_names_out()\n",
    "for topic_idx, topic in enumerate(lda.components_):\n",
    "    print(\"Topic %d:\" % (topic_idx + 1))\n",
    "    print(\" \".join([feature_names[i] for i in topic.argsort()[:-n_top_words - 1:-1]]))\n",
    "\n",
    "# print the first 5 rows of the lda_train\n",
    "print(lda_train[:5])"
   ]
  },
  {
   "attachments": {},
   "cell_type": "markdown",
   "metadata": {},
   "source": [
    "## 3. Pipeline TF-IDF"
   ]
  },
  {
   "cell_type": "code",
   "execution_count": 39,
   "metadata": {},
   "outputs": [],
   "source": [
    "vectorizer = TfidfVectorizer(tokenizer = lambda x : str.split(x, ' '), min_df=0.0005)"
   ]
  },
  {
   "cell_type": "code",
   "execution_count": 28,
   "metadata": {},
   "outputs": [
    {
     "data": {
      "text/plain": [
       "\" prepro_stemming = FunctionTransformer(func=preprocess_texts,kw_args={'stem_lemm':'stem'})\\nprepro_lemmatize = FunctionTransformer(func=preprocess_texts, kw_args={'stem_lemm':'lemm'})\\n\\npipeline_stem = Pipeline([('preprocess_pipeline', prepro_stemming), ('vectorizer_pipeline', vectorizer)])\\npipeline_lemm = Pipeline([('preprocess_pipeline', prepro_lemmatize), ('vectorizer_pipeline', vectorizer)]) \""
      ]
     },
     "execution_count": 28,
     "metadata": {},
     "output_type": "execute_result"
    }
   ],
   "source": [
    "\"\"\" prepro_stemming = FunctionTransformer(func=preprocess_texts,kw_args={'stem_lemm':'stem'})\n",
    "prepro_lemmatize = FunctionTransformer(func=preprocess_texts, kw_args={'stem_lemm':'lemm'})\n",
    "\n",
    "pipeline_stem = Pipeline([('preprocess_pipeline', prepro_stemming), ('vectorizer_pipeline', vectorizer)])\n",
    "pipeline_lemm = Pipeline([('preprocess_pipeline', prepro_lemmatize), ('vectorizer_pipeline', vectorizer)]) \"\"\""
   ]
  },
  {
   "attachments": {},
   "cell_type": "markdown",
   "metadata": {},
   "source": [
    "## 4. Comparaison des modèles et des prétraitements"
   ]
  },
  {
   "cell_type": "code",
   "execution_count": 14,
   "metadata": {},
   "outputs": [
    {
     "name": "stdout",
     "output_type": "stream",
     "text": [
      "min_df =  0  :  0.6229086601553337\n",
      "min_df =  0.0001  :  0.6229086601553337\n",
      "min_df =  0.0002  :  0.6229086601553337\n",
      "min_df =  0.0003  :  0.6258285245167696\n",
      "min_df =  0.0004  :  0.6258285245167696\n",
      "min_df =  0.0005  :  0.6281340457638562\n",
      "min_df =  0.0006  :  0.6281340457638562\n",
      "min_df =  0.0007  :  0.6277118985314949\n",
      "min_df =  0.0008  :  0.6277118985314949\n",
      "min_df =  0.001  :  0.6271520343087422\n"
     ]
    }
   ],
   "source": [
    "# testing different min_df values for tfidf vectorizer\n",
    "\"\"\" min_df_values = [0, 0.0001, 0.0002, 0.0003 ,0.0004, 0.0005, 0.0006, 0.0007, 0.0008, 0.001]\n",
    "scoring = 'f1_macro'\n",
    "kfold = model_selection.StratifiedKFold(n_splits=5, shuffle=True, random_state=12)\n",
    "for min_df in min_df_values:\n",
    "    vectorizer = TfidfVectorizer(tokenizer = lambda x : str.split(x, ' '), min_df=min_df)\n",
    "    model_pipeline = make_pipeline(vectorizer, SVC())\n",
    "    # Entrainement du modèle\n",
    "    model_pipeline.fit(X_train_pre, y_train)\n",
    "    # Evaluation du modèle\n",
    "    cv_results = model_selection.cross_val_score(model_pipeline, X_test_pre, y_test, cv=kfold, scoring=scoring)\n",
    "    print(\"min_df = \", min_df, \" : \", cv_results.mean()) \"\"\""
   ]
  },
  {
   "cell_type": "code",
   "execution_count": 52,
   "metadata": {},
   "outputs": [
    {
     "name": "stdout",
     "output_type": "stream",
     "text": [
      "Dummy\n",
      "Decision Tree\n",
      "Random Forest\n",
      "Logistic Regression\n",
      "SVM\n",
      "Multinomial Naive Bayes\n",
      "KNN\n"
     ]
    }
   ],
   "source": [
    "# Modèles à tester\n",
    "models = [\n",
    "    ('Dummy', DummyClassifier(strategy='most_frequent')),\n",
    "    ('Decision Tree', DecisionTreeClassifier()),\n",
    "    ('Random Forest', RandomForestClassifier()),\n",
    "    ('Logistic Regression', LogisticRegression()),\n",
    "    ('SVM', SVC()),\n",
    "    ('Multinomial Naive Bayes', MultinomialNB()),\n",
    "    ('KNN', KNeighborsClassifier()),\n",
    "]\n",
    "\n",
    "\n",
    "# Evaluation des modèles et des pipelines\n",
    "scores = []\n",
    "names = []\n",
    "scoring = 'f1_macro'\n",
    "# Validation croisée à 5 plis\n",
    "kfold = model_selection.StratifiedKFold(n_splits=5, shuffle=True, random_state=12)\n",
    "# Itération sur les modèles et les pipelines\n",
    "for name, model in models:\n",
    "    print(name)\n",
    "    names.append(name)\n",
    "    # Création de la pipeline pour le modèle\n",
    "    model_pipeline = make_pipeline(vectorizer, model)\n",
    "    # Entrainement du modèle\n",
    "    model_pipeline.fit(X_train_pre, y_train)\n",
    "    # Evaluation du modèle\n",
    "    cv_results = model_selection.cross_val_score(model_pipeline, X_test_pre, y_test, cv=kfold, scoring=scoring)\n",
    "    # Ajout du score moyen à la liste scores\n",
    "    scores.append(cv_results.mean())"
   ]
  },
  {
   "cell_type": "code",
   "execution_count": 53,
   "metadata": {},
   "outputs": [
    {
     "name": "stdout",
     "output_type": "stream",
     "text": [
      "Dummy 0.33785159016386734\n",
      "Decision Tree 0.7801800146035991\n",
      "Random Forest 0.8281076765083017\n",
      "Logistic Regression 0.8429185151273565\n",
      "SVM 0.8499449183294978\n",
      "Multinomial Naive Bayes 0.8287477376151363\n",
      "KNN 0.4911522777710096\n"
     ]
    }
   ],
   "source": [
    "# Print models name and accuracy\n",
    "for i in range(len(names)):\n",
    "    print(names[i], scores[i])"
   ]
  },
  {
   "cell_type": "code",
   "execution_count": 54,
   "metadata": {},
   "outputs": [
    {
     "data": {
      "image/png": "[encoded data removed]",
      "text/plain": [
       "<Figure size 640x480 with 1 Axes>"
      ]
     },
     "metadata": {},
     "output_type": "display_data"
    }
   ],
   "source": [
    "# Représentation graphique des résultats\n",
    "indices = np.arange(len(scores))\n",
    "fig = plt.figure()\n",
    "plt.barh(indices, scores, .2, label=\"score\", color='b')\n",
    "plt.yticks(())\n",
    "for i, c in zip(indices, names):\n",
    "    plt.text(-.3, i, c)\n",
    "plt.show()"
   ]
  },
  {
   "attachments": {},
   "cell_type": "markdown",
   "metadata": {},
   "source": [
    "## 5. Evaluation meilleur modèle"
   ]
  },
  {
   "cell_type": "code",
   "execution_count": 55,
   "metadata": {},
   "outputs": [
    {
     "data": {
      "text/html": [
       "<style>#sk-container-id-1 {color: black;}#sk-container-id-1 pre{padding: 0;}#sk-container-id-1 div.sk-toggleable {background-color: white;}#sk-container-id-1 label.sk-toggleable__label {cursor: pointer;display: block;width: 100%;margin-bottom: 0;padding: 0.3em;box-sizing: border-box;text-align: center;}#sk-container-id-1 label.sk-toggleable__label-arrow:before {content: \"▸\";float: left;margin-right: 0.25em;color: #696969;}#sk-container-id-1 label.sk-toggleable__label-arrow:hover:before {color: black;}#sk-container-id-1 div.sk-estimator:hover label.sk-toggleable__label-arrow:before {color: black;}#sk-container-id-1 div.sk-toggleable__content {max-height: 0;max-width: 0;overflow: hidden;text-align: left;background-color: #f0f8ff;}#sk-container-id-1 div.sk-toggleable__content pre {margin: 0.2em;color: black;border-radius: 0.25em;background-color: #f0f8ff;}#sk-container-id-1 input.sk-toggleable__control:checked~div.sk-toggleable__content {max-height: 200px;max-width: 100%;overflow: auto;}#sk-container-id-1 input.sk-toggleable__control:checked~label.sk-toggleable__label-arrow:before {content: \"▾\";}#sk-container-id-1 div.sk-estimator input.sk-toggleable__control:checked~label.sk-toggleable__label {background-color: #d4ebff;}#sk-container-id-1 div.sk-label input.sk-toggleable__control:checked~label.sk-toggleable__label {background-color: #d4ebff;}#sk-container-id-1 input.sk-hidden--visually {border: 0;clip: rect(1px 1px 1px 1px);clip: rect(1px, 1px, 1px, 1px);height: 1px;margin: -1px;overflow: hidden;padding: 0;position: absolute;width: 1px;}#sk-container-id-1 div.sk-estimator {font-family: monospace;background-color: #f0f8ff;border: 1px dotted black;border-radius: 0.25em;box-sizing: border-box;margin-bottom: 0.5em;}#sk-container-id-1 div.sk-estimator:hover {background-color: #d4ebff;}#sk-container-id-1 div.sk-parallel-item::after {content: \"\";width: 100%;border-bottom: 1px solid gray;flex-grow: 1;}#sk-container-id-1 div.sk-label:hover label.sk-toggleable__label {background-color: #d4ebff;}#sk-container-id-1 div.sk-serial::before {content: \"\";position: absolute;border-left: 1px solid gray;box-sizing: border-box;top: 0;bottom: 0;left: 50%;z-index: 0;}#sk-container-id-1 div.sk-serial {display: flex;flex-direction: column;align-items: center;background-color: white;padding-right: 0.2em;padding-left: 0.2em;position: relative;}#sk-container-id-1 div.sk-item {position: relative;z-index: 1;}#sk-container-id-1 div.sk-parallel {display: flex;align-items: stretch;justify-content: center;background-color: white;position: relative;}#sk-container-id-1 div.sk-item::before, #sk-container-id-1 div.sk-parallel-item::before {content: \"\";position: absolute;border-left: 1px solid gray;box-sizing: border-box;top: 0;bottom: 0;left: 50%;z-index: -1;}#sk-container-id-1 div.sk-parallel-item {display: flex;flex-direction: column;z-index: 1;position: relative;background-color: white;}#sk-container-id-1 div.sk-parallel-item:first-child::after {align-self: flex-end;width: 50%;}#sk-container-id-1 div.sk-parallel-item:last-child::after {align-self: flex-start;width: 50%;}#sk-container-id-1 div.sk-parallel-item:only-child::after {width: 0;}#sk-container-id-1 div.sk-dashed-wrapped {border: 1px dashed gray;margin: 0 0.4em 0.5em 0.4em;box-sizing: border-box;padding-bottom: 0.4em;background-color: white;}#sk-container-id-1 div.sk-label label {font-family: monospace;font-weight: bold;display: inline-block;line-height: 1.2em;}#sk-container-id-1 div.sk-label-container {text-align: center;}#sk-container-id-1 div.sk-container {/* jupyter's `normalize.less` sets `[hidden] { display: none; }` but bootstrap.min.css set `[hidden] { display: none !important; }` so we also need the `!important` here to be able to override the default hidden behavior on the sphinx rendered scikit-learn.org. See: https://github.com/scikit-learn/scikit-learn/issues/21755 */display: inline-block !important;position: relative;}#sk-container-id-1 div.sk-text-repr-fallback {display: none;}</style><div id=\"sk-container-id-1\" class=\"sk-top-container\"><div class=\"sk-text-repr-fallback\"><pre>Pipeline(steps=[(&#x27;tfidfvectorizer&#x27;,\n",
       "                 TfidfVectorizer(min_df=0.0005,\n",
       "                                 tokenizer=&lt;function &lt;lambda&gt; at 0x7fdfc1e11fc0&gt;)),\n",
       "                (&#x27;svc&#x27;, SVC())])</pre><b>In a Jupyter environment, please rerun this cell to show the HTML representation or trust the notebook. <br />On GitHub, the HTML representation is unable to render, please try loading this page with nbviewer.org.</b></div><div class=\"sk-container\" hidden><div class=\"sk-item sk-dashed-wrapped\"><div class=\"sk-label-container\"><div class=\"sk-label sk-toggleable\"><input class=\"sk-toggleable__control sk-hidden--visually\" id=\"sk-estimator-id-1\" type=\"checkbox\" ><label for=\"sk-estimator-id-1\" class=\"sk-toggleable__label sk-toggleable__label-arrow\">Pipeline</label><div class=\"sk-toggleable__content\"><pre>Pipeline(steps=[(&#x27;tfidfvectorizer&#x27;,\n",
       "                 TfidfVectorizer(min_df=0.0005,\n",
       "                                 tokenizer=&lt;function &lt;lambda&gt; at 0x7fdfc1e11fc0&gt;)),\n",
       "                (&#x27;svc&#x27;, SVC())])</pre></div></div></div><div class=\"sk-serial\"><div class=\"sk-item\"><div class=\"sk-estimator sk-toggleable\"><input class=\"sk-toggleable__control sk-hidden--visually\" id=\"sk-estimator-id-2\" type=\"checkbox\" ><label for=\"sk-estimator-id-2\" class=\"sk-toggleable__label sk-toggleable__label-arrow\">TfidfVectorizer</label><div class=\"sk-toggleable__content\"><pre>TfidfVectorizer(min_df=0.0005, tokenizer=&lt;function &lt;lambda&gt; at 0x7fdfc1e11fc0&gt;)</pre></div></div></div><div class=\"sk-item\"><div class=\"sk-estimator sk-toggleable\"><input class=\"sk-toggleable__control sk-hidden--visually\" id=\"sk-estimator-id-3\" type=\"checkbox\" ><label for=\"sk-estimator-id-3\" class=\"sk-toggleable__label sk-toggleable__label-arrow\">SVC</label><div class=\"sk-toggleable__content\"><pre>SVC()</pre></div></div></div></div></div></div></div>"
      ],
      "text/plain": [
       "Pipeline(steps=[('tfidfvectorizer',\n",
       "                 TfidfVectorizer(min_df=0.0005,\n",
       "                                 tokenizer=<function <lambda> at 0x7fdfc1e11fc0>)),\n",
       "                ('svc', SVC())])"
      ]
     },
     "execution_count": 55,
     "metadata": {},
     "output_type": "execute_result"
    }
   ],
   "source": [
    "model_pipeline = make_pipeline(vectorizer, SVC())\n",
    "model_pipeline.fit(X_train_pre, y_train)"
   ]
  },
  {
   "cell_type": "code",
   "execution_count": 57,
   "metadata": {},
   "outputs": [
    {
     "name": "stdout",
     "output_type": "stream",
     "text": [
      "              precision    recall  f1-score   support\n",
      "\n",
      "          -1       0.87      0.88      0.88      1603\n",
      "           1       0.89      0.87      0.88      1670\n",
      "\n",
      "    accuracy                           0.88      3273\n",
      "   macro avg       0.88      0.88      0.88      3273\n",
      "weighted avg       0.88      0.88      0.88      3273\n",
      "\n"
     ]
    },
    {
     "data": {
      "image/png": "[encoded data removed]",
      "text/plain": [
       "<Figure size 1000x1000 with 2 Axes>"
      ]
     },
     "metadata": {},
     "output_type": "display_data"
    }
   ],
   "source": [
    "# Evaluation du modèle\n",
    "y_pred = model_pipeline.predict(X_test_pre)\n",
    "print(classification_report(y_test, y_pred))\n",
    "\n",
    "# Matrice de confusion\n",
    "\n",
    "conf_mat = confusion_matrix(y_test, y_pred)\n",
    "fig, ax = plt.subplots(figsize=(10,10))\n",
    "sns.heatmap(conf_mat, annot=True, fmt='d',\n",
    "            xticklabels=tweet_df['label'].unique(), yticklabels=tweet_df['label'].unique())\n",
    "plt.ylabel('Actual')\n",
    "plt.xlabel('Predicted')\n",
    "plt.show()"
   ]
  }
 ],
 "metadata": {
  "kernelspec": {
   "display_name": "Python 3",
   "language": "python",
   "name": "python3"
  },
  "language_info": {
   "codemirror_mode": {
    "name": "ipython",
    "version": 3
   },
   "file_extension": ".py",
   "mimetype": "text/x-python",
   "name": "python",
   "nbconvert_exporter": "python",
   "pygments_lexer": "ipython3",
   "version": "3.10.6"
  },
  "orig_nbformat": 4
 },
 "nbformat": 4,
 "nbformat_minor": 2
}
