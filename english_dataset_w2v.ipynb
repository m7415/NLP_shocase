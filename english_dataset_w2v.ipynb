{
 "cells": [
  {
   "cell_type": "code",
   "execution_count": 27,
   "metadata": {},
   "outputs": [
    {
     "name": "stderr",
     "output_type": "stream",
     "text": [
      "[nltk_data] Downloading package stopwords to /home/maxime/nltk_data...\n",
      "[nltk_data]   Package stopwords is already up-to-date!\n",
      "[nltk_data] Downloading package punkt to /home/maxime/nltk_data...\n",
      "[nltk_data]   Package punkt is already up-to-date!\n"
     ]
    },
    {
     "data": {
      "text/plain": [
       "True"
      ]
     },
     "execution_count": 27,
     "metadata": {},
     "output_type": "execute_result"
    }
   ],
   "source": [
    "# Imports nécessaires\n",
    "\n",
    "%matplotlib inline\n",
    "\n",
    "# Suppression de l'affichage des messages d'avertissement\n",
    "import warnings\n",
    "warnings.filterwarnings('ignore')\n",
    "import string\n",
    "\n",
    "from sklearn import model_selection\n",
    "from sklearn import set_config\n",
    "from sklearn.dummy import DummyClassifier\n",
    "from sklearn.ensemble import RandomForestClassifier\n",
    "from sklearn.feature_extraction.text import TfidfVectorizer\n",
    "from sklearn.linear_model import LogisticRegression\n",
    "from sklearn.metrics import classification_report, f1_score, accuracy_score, confusion_matrix\n",
    "from sklearn.model_selection import train_test_split\n",
    "from sklearn.naive_bayes import MultinomialNB\n",
    "from sklearn.neighbors import KNeighborsClassifier\n",
    "from sklearn.preprocessing import FunctionTransformer\n",
    "from sklearn.pipeline import Pipeline, make_pipeline\n",
    "from sklearn.tree import DecisionTreeClassifier\n",
    "\n",
    "import gensim\n",
    "from gensim.models import KeyedVectors\n",
    "from gensim.models import Word2Vec\n",
    "from gensim.scripts.glove2word2vec import glove2word2vec\n",
    "\n",
    "import matplotlib.pyplot as plt\n",
    "import numpy as np\n",
    "import pandas as pd\n",
    "import spacy\n",
    "import nltk\n",
    "from sklearn.svm import SVC\n",
    "\n",
    "import seaborn as sns\n",
    "\n",
    "# Pour éviter l'affichage tronqué des descriptions\n",
    "pd.set_option('display.max_colwidth', -1) \n",
    "# Pour la visualisation des pipelines sklearn\n",
    "set_config(display='diagram')\n",
    "\n",
    "import nltk\n",
    "from nltk.corpus import stopwords\n",
    "from nltk.tokenize import word_tokenize\n",
    "nltk.download('stopwords')\n",
    "nltk.download('punkt')"
   ]
  },
  {
   "attachments": {},
   "cell_type": "markdown",
   "metadata": {},
   "source": [
    "# First experimentations with english dataset and simple models"
   ]
  },
  {
   "attachments": {},
   "cell_type": "markdown",
   "metadata": {},
   "source": [
    "## 1. Importation des données"
   ]
  },
  {
   "cell_type": "code",
   "execution_count": 28,
   "metadata": {},
   "outputs": [],
   "source": [
    "# Recuperation des données\n",
    "tweet_df = pd.read_csv('data/tweets_eng.csv', index_col=0)\n",
    "\n",
    "# Suppression des lignes avec des valeurs manquantes\n",
    "tweet_df = tweet_df.dropna()\n",
    "\n",
    "# Suppression des colonnes inutiles\n",
    "tweet_df = tweet_df.drop(columns=['selected_text'])"
   ]
  },
  {
   "cell_type": "code",
   "execution_count": 29,
   "metadata": {},
   "outputs": [
    {
     "data": {
      "text/plain": [
       "neutral     11117\n",
       "positive    8582 \n",
       "negative    7781 \n",
       "Name: sentiment, dtype: int64"
      ]
     },
     "execution_count": 29,
     "metadata": {},
     "output_type": "execute_result"
    }
   ],
   "source": [
    "tweet_df['sentiment'].value_counts()"
   ]
  },
  {
   "cell_type": "code",
   "execution_count": 30,
   "metadata": {},
   "outputs": [],
   "source": [
    "# Convertit les genres en labels numériques\n",
    "tweet_df['label'] = tweet_df['sentiment'].astype('category')\n",
    "tweet_df['label'] = tweet_df['label'].cat.codes"
   ]
  },
  {
   "cell_type": "code",
   "execution_count": 31,
   "metadata": {},
   "outputs": [
    {
     "name": "stdout",
     "output_type": "stream",
     "text": [
      "<class 'pandas.core.frame.DataFrame'>\n",
      "Index: 27480 entries, cb774db0d1 to 6f7127d9d7\n",
      "Data columns (total 3 columns):\n",
      " #   Column     Non-Null Count  Dtype \n",
      "---  ------     --------------  ----- \n",
      " 0   text       27480 non-null  object\n",
      " 1   sentiment  27480 non-null  object\n",
      " 2   label      27480 non-null  int8  \n",
      "dtypes: int8(1), object(2)\n",
      "memory usage: 670.9+ KB\n"
     ]
    }
   ],
   "source": [
    "tweet_df.info()"
   ]
  },
  {
   "cell_type": "code",
   "execution_count": 32,
   "metadata": {},
   "outputs": [],
   "source": [
    "X_train, X_test, y_train, y_test = train_test_split(tweet_df['text'], tweet_df['label'], test_size=0.2, random_state=42, shuffle=True)"
   ]
  },
  {
   "attachments": {},
   "cell_type": "markdown",
   "metadata": {},
   "source": [
    "## 2. Preprocessing"
   ]
  },
  {
   "cell_type": "code",
   "execution_count": 33,
   "metadata": {},
   "outputs": [],
   "source": [
    "# download spacy model\n",
    "#!python3 -m spacy download en_core_web_sm"
   ]
  },
  {
   "cell_type": "code",
   "execution_count": 34,
   "metadata": {},
   "outputs": [],
   "source": [
    "from preprocessing import preprocess_texts, preprocess_text"
   ]
  },
  {
   "cell_type": "code",
   "execution_count": 35,
   "metadata": {},
   "outputs": [],
   "source": [
    "# preprocess X_train and X_test\n",
    "X_train_pre = preprocess_texts(X_train,'lemm')\n",
    "X_test_pre = preprocess_texts(X_test, 'lemm')"
   ]
  },
  {
   "cell_type": "code",
   "execution_count": 36,
   "metadata": {},
   "outputs": [],
   "source": [
    "# convert X_train_pre, X_test_pre, y_train, y_test to numpy array\n",
    "X_train_pre = np.array(X_train_pre)\n",
    "X_test_pre = np.array(X_test_pre)\n",
    "y_train = np.array(y_train)\n",
    "y_test = np.array(y_test)"
   ]
  },
  {
   "attachments": {},
   "cell_type": "markdown",
   "metadata": {},
   "source": [
    "## 3. W2V"
   ]
  },
  {
   "cell_type": "code",
   "execution_count": 37,
   "metadata": {},
   "outputs": [],
   "source": [
    "from w2v import wtv_vectorizer_doc, wtv_vectorizer, vectorize"
   ]
  },
  {
   "cell_type": "code",
   "execution_count": null,
   "metadata": {},
   "outputs": [],
   "source": [
    "# download model from google drive if not exist\n",
    "try:\n",
    "    open('models/GoogleNews-vectors-negative300.bin.gz')\n",
    "except FileNotFoundError:\n",
    "    !gdown --id {\"https://drive.google.com/file/d/0B7XkCwpI5KDYNlNUTTlSS21pQmM/view?usp=sharing&resourcekey=0-wjGZdNAUop6WykTtMip30g\".split(\"/\")[-2]}"
   ]
  },
  {
   "cell_type": "code",
   "execution_count": null,
   "metadata": {},
   "outputs": [],
   "source": [
    "# unzip the file (gz) and move it to the models folder\n",
    "!gunzip GoogleNews-vectors-negative300.bin.gz\n",
    "!mv GoogleNews-vectors-negative300.bin models/"
   ]
  },
  {
   "cell_type": "code",
   "execution_count": null,
   "metadata": {},
   "outputs": [],
   "source": [
    "# download another model (not from google drive)\n",
    "!wget -c \"https://nlp.stanford.edu/data/glove.twitter.27B.zip\"\n",
    "!unzip glove.twitter.27B.zip"
   ]
  },
  {
   "cell_type": "code",
   "execution_count": null,
   "metadata": {},
   "outputs": [],
   "source": [
    "!rm glove.twitter.27B.zip\n",
    "!rm glove.twitter.27B.25d.txt\n",
    "!rm glove.twitter.27B.50d.txt\n",
    "!rm glove.twitter.27B.200d.txt\n",
    "!mv glove.twitter.27B.100d.txt models/"
   ]
  },
  {
   "cell_type": "code",
   "execution_count": 38,
   "metadata": {},
   "outputs": [],
   "source": [
    "# word2vec\n",
    "\n",
    "# sous la forme (chemin, taille_des_vecteurs, nom_à_afficher)\n",
    "models_wtv = [\n",
    "    (\"models/GoogleNews-vectors-negative300.bin\",300, \"google news\"),\n",
    "    (\"models/glove.twitter.27B.100d.txt\",100, \"glove twitter\")\n",
    "    # (\"models/frWac_non_lem_no_postag_no_phrase_200_cbow_cut0.bin\",200, \"200 cbow\")\n",
    "    # (\"models/frWiki_no_lem_no_postag_no_phrase_1000_cbow_cut100.bin\",1000,\"1000 cbow\"),\n",
    "    # (\"models/frWiki_no_lem_no_postag_no_phrase_1000_skip_cut100.bin\",1000,\"1000 skip\")\n",
    "]\n",
    "\n",
    "# download models if not already done\n",
    "\"\"\" for model in models_wtv:\n",
    "    try:\n",
    "        open(model[0])\n",
    "    except:\n",
    "        print(\"downloading model\", model[0].split(\"/\")[-1].split(\".\")[0])\n",
    "        # download the model from google drive\n",
    "        !gdown --id {model[3].split(\"/\")[-2]} \"\"\""
   ]
  },
  {
   "cell_type": "code",
   "execution_count": 40,
   "metadata": {},
   "outputs": [
    {
     "name": "stdout",
     "output_type": "stream",
     "text": [
      "loading w2v model google news\n"
     ]
    }
   ],
   "source": [
    "# chargement des modèles word2vec\n",
    "models_wtv_loaded = []\n",
    "for path,vec_size,name in models_wtv:\n",
    "    print(f\"loading w2v model {name}\")\n",
    "    # if the model is not a bin file, we use KeyedVectors.load_word2vec_format with binary=False\n",
    "    if path.split(\".\")[-1] == \"bin\":\n",
    "        models_wtv_loaded.append((KeyedVectors.load_word2vec_format(\n",
    "            path,\n",
    "            binary=True,\n",
    "            unicode_errors=\"ignore\"),\n",
    "        vec_size,\n",
    "        name\n",
    "        ))\n",
    "    else:\n",
    "        models_wtv_loaded.append((KeyedVectors.load_word2vec_format(\n",
    "            path,\n",
    "            binary=False,\n",
    "            unicode_errors=\"ignore\",\n",
    "            no_header=True),\n",
    "        vec_size,\n",
    "        name\n",
    "        ))"
   ]
  },
  {
   "attachments": {},
   "cell_type": "markdown",
   "metadata": {},
   "source": [
    "## 4. Comparaison des modèles et des prétraitements"
   ]
  },
  {
   "cell_type": "code",
   "execution_count": null,
   "metadata": {},
   "outputs": [],
   "source": [
    "# for each w2v model, we vectorize X_train and X_test, and we train a SVM classifier, then we evaluate the model and we store the results\n",
    "results = []\n",
    "for model, size, name in models_wtv_loaded:\n",
    "    X_train_vec = wtv_vectorizer_doc(X_train_pre, model, size)\n",
    "    X_test_vec = wtv_vectorizer_doc(X_test_pre, model, size)\n",
    "    # convert X_train_vec and X_test_vec to numpy array\n",
    "    X_train_vec = np.array(X_train_vec)\n",
    "    X_test_vec = np.array(X_test_vec)\n",
    "    print(f\"training model {name}\")\n",
    "    clf = SVC(kernel=\"rbf\", C=1, gamma=\"auto\")\n",
    "    clf.fit(X_train_vec[name], y_train)\n",
    "    X_test_vec = vectorize(X_test_pre, [(model, _, name)])\n",
    "    y_pred = clf.predict(X_test_vec[name])\n",
    "    results.append((name, accuracy_score(y_test, y_pred), f1_score(y_test, y_pred, average=\"macro\")))"
   ]
  },
  {
   "cell_type": "code",
   "execution_count": 25,
   "metadata": {},
   "outputs": [
    {
     "data": {
      "image/png": "[encoded data removed]",
      "text/plain": [
       "<Figure size 640x480 with 1 Axes>"
      ]
     },
     "metadata": {},
     "output_type": "display_data"
    }
   ],
   "source": [
    "# Print models name and accuracy\n",
    "for name, score in results:\n",
    "    print(f\"{name} : {score}\")"
   ]
  },
  {
   "attachments": {},
   "cell_type": "markdown",
   "metadata": {},
   "source": [
    "## 5. Evaluation SVM"
   ]
  },
  {
   "cell_type": "code",
   "execution_count": 22,
   "metadata": {},
   "outputs": [
    {
     "data": {
      "text/html": [
       "<style>#sk-container-id-4 {color: black;background-color: white;}#sk-container-id-4 pre{padding: 0;}#sk-container-id-4 div.sk-toggleable {background-color: white;}#sk-container-id-4 label.sk-toggleable__label {cursor: pointer;display: block;width: 100%;margin-bottom: 0;padding: 0.3em;box-sizing: border-box;text-align: center;}#sk-container-id-4 label.sk-toggleable__label-arrow:before {content: \"▸\";float: left;margin-right: 0.25em;color: #696969;}#sk-container-id-4 label.sk-toggleable__label-arrow:hover:before {color: black;}#sk-container-id-4 div.sk-estimator:hover label.sk-toggleable__label-arrow:before {color: black;}#sk-container-id-4 div.sk-toggleable__content {max-height: 0;max-width: 0;overflow: hidden;text-align: left;background-color: #f0f8ff;}#sk-container-id-4 div.sk-toggleable__content pre {margin: 0.2em;color: black;border-radius: 0.25em;background-color: #f0f8ff;}#sk-container-id-4 input.sk-toggleable__control:checked~div.sk-toggleable__content {max-height: 200px;max-width: 100%;overflow: auto;}#sk-container-id-4 input.sk-toggleable__control:checked~label.sk-toggleable__label-arrow:before {content: \"▾\";}#sk-container-id-4 div.sk-estimator input.sk-toggleable__control:checked~label.sk-toggleable__label {background-color: #d4ebff;}#sk-container-id-4 div.sk-label input.sk-toggleable__control:checked~label.sk-toggleable__label {background-color: #d4ebff;}#sk-container-id-4 input.sk-hidden--visually {border: 0;clip: rect(1px 1px 1px 1px);clip: rect(1px, 1px, 1px, 1px);height: 1px;margin: -1px;overflow: hidden;padding: 0;position: absolute;width: 1px;}#sk-container-id-4 div.sk-estimator {font-family: monospace;background-color: #f0f8ff;border: 1px dotted black;border-radius: 0.25em;box-sizing: border-box;margin-bottom: 0.5em;}#sk-container-id-4 div.sk-estimator:hover {background-color: #d4ebff;}#sk-container-id-4 div.sk-parallel-item::after {content: \"\";width: 100%;border-bottom: 1px solid gray;flex-grow: 1;}#sk-container-id-4 div.sk-label:hover label.sk-toggleable__label {background-color: #d4ebff;}#sk-container-id-4 div.sk-serial::before {content: \"\";position: absolute;border-left: 1px solid gray;box-sizing: border-box;top: 0;bottom: 0;left: 50%;z-index: 0;}#sk-container-id-4 div.sk-serial {display: flex;flex-direction: column;align-items: center;background-color: white;padding-right: 0.2em;padding-left: 0.2em;position: relative;}#sk-container-id-4 div.sk-item {position: relative;z-index: 1;}#sk-container-id-4 div.sk-parallel {display: flex;align-items: stretch;justify-content: center;background-color: white;position: relative;}#sk-container-id-4 div.sk-item::before, #sk-container-id-4 div.sk-parallel-item::before {content: \"\";position: absolute;border-left: 1px solid gray;box-sizing: border-box;top: 0;bottom: 0;left: 50%;z-index: -1;}#sk-container-id-4 div.sk-parallel-item {display: flex;flex-direction: column;z-index: 1;position: relative;background-color: white;}#sk-container-id-4 div.sk-parallel-item:first-child::after {align-self: flex-end;width: 50%;}#sk-container-id-4 div.sk-parallel-item:last-child::after {align-self: flex-start;width: 50%;}#sk-container-id-4 div.sk-parallel-item:only-child::after {width: 0;}#sk-container-id-4 div.sk-dashed-wrapped {border: 1px dashed gray;margin: 0 0.4em 0.5em 0.4em;box-sizing: border-box;padding-bottom: 0.4em;background-color: white;}#sk-container-id-4 div.sk-label label {font-family: monospace;font-weight: bold;display: inline-block;line-height: 1.2em;}#sk-container-id-4 div.sk-label-container {text-align: center;}#sk-container-id-4 div.sk-container {/* jupyter's `normalize.less` sets `[hidden] { display: none; }` but bootstrap.min.css set `[hidden] { display: none !important; }` so we also need the `!important` here to be able to override the default hidden behavior on the sphinx rendered scikit-learn.org. See: https://github.com/scikit-learn/scikit-learn/issues/21755 */display: inline-block !important;position: relative;}#sk-container-id-4 div.sk-text-repr-fallback {display: none;}</style><div id=\"sk-container-id-4\" class=\"sk-top-container\"><div class=\"sk-text-repr-fallback\"><pre>Pipeline(steps=[(&#x27;pipeline&#x27;,\n",
       "                 Pipeline(steps=[(&#x27;preprocess_pipeline&#x27;,\n",
       "                                  FunctionTransformer(func=&lt;function preprocess_texts at 0x7fe3bea352d0&gt;,\n",
       "                                                      kw_args={&#x27;stem_lemm&#x27;: &#x27;stem&#x27;})),\n",
       "                                 (&#x27;vectorizer_pipeline&#x27;,\n",
       "                                  TfidfVectorizer(min_df=0.005,\n",
       "                                                  tokenizer=&lt;function &lt;lambda&gt; at 0x7fe3bea35990&gt;))])),\n",
       "                (&#x27;svc&#x27;, SVC())])</pre><b>In a Jupyter environment, please rerun this cell to show the HTML representation or trust the notebook. <br />On GitHub, the HTML representation is unable to render, please try loading this page with nbviewer.org.</b></div><div class=\"sk-container\" hidden><div class=\"sk-item sk-dashed-wrapped\"><div class=\"sk-label-container\"><div class=\"sk-label sk-toggleable\"><input class=\"sk-toggleable__control sk-hidden--visually\" id=\"sk-estimator-id-16\" type=\"checkbox\" ><label for=\"sk-estimator-id-16\" class=\"sk-toggleable__label sk-toggleable__label-arrow\">Pipeline</label><div class=\"sk-toggleable__content\"><pre>Pipeline(steps=[(&#x27;pipeline&#x27;,\n",
       "                 Pipeline(steps=[(&#x27;preprocess_pipeline&#x27;,\n",
       "                                  FunctionTransformer(func=&lt;function preprocess_texts at 0x7fe3bea352d0&gt;,\n",
       "                                                      kw_args={&#x27;stem_lemm&#x27;: &#x27;stem&#x27;})),\n",
       "                                 (&#x27;vectorizer_pipeline&#x27;,\n",
       "                                  TfidfVectorizer(min_df=0.005,\n",
       "                                                  tokenizer=&lt;function &lt;lambda&gt; at 0x7fe3bea35990&gt;))])),\n",
       "                (&#x27;svc&#x27;, SVC())])</pre></div></div></div><div class=\"sk-serial\"><div class=\"sk-item\"><div class=\"sk-label-container\"><div class=\"sk-label sk-toggleable\"><input class=\"sk-toggleable__control sk-hidden--visually\" id=\"sk-estimator-id-17\" type=\"checkbox\" ><label for=\"sk-estimator-id-17\" class=\"sk-toggleable__label sk-toggleable__label-arrow\">pipeline: Pipeline</label><div class=\"sk-toggleable__content\"><pre>Pipeline(steps=[(&#x27;preprocess_pipeline&#x27;,\n",
       "                 FunctionTransformer(func=&lt;function preprocess_texts at 0x7fe3bea352d0&gt;,\n",
       "                                     kw_args={&#x27;stem_lemm&#x27;: &#x27;stem&#x27;})),\n",
       "                (&#x27;vectorizer_pipeline&#x27;,\n",
       "                 TfidfVectorizer(min_df=0.005,\n",
       "                                 tokenizer=&lt;function &lt;lambda&gt; at 0x7fe3bea35990&gt;))])</pre></div></div></div><div class=\"sk-serial\"><div class=\"sk-item\"><div class=\"sk-estimator sk-toggleable\"><input class=\"sk-toggleable__control sk-hidden--visually\" id=\"sk-estimator-id-18\" type=\"checkbox\" ><label for=\"sk-estimator-id-18\" class=\"sk-toggleable__label sk-toggleable__label-arrow\">FunctionTransformer</label><div class=\"sk-toggleable__content\"><pre>FunctionTransformer(func=&lt;function preprocess_texts at 0x7fe3bea352d0&gt;,\n",
       "                    kw_args={&#x27;stem_lemm&#x27;: &#x27;stem&#x27;})</pre></div></div></div><div class=\"sk-item\"><div class=\"sk-estimator sk-toggleable\"><input class=\"sk-toggleable__control sk-hidden--visually\" id=\"sk-estimator-id-19\" type=\"checkbox\" ><label for=\"sk-estimator-id-19\" class=\"sk-toggleable__label sk-toggleable__label-arrow\">TfidfVectorizer</label><div class=\"sk-toggleable__content\"><pre>TfidfVectorizer(min_df=0.005, tokenizer=&lt;function &lt;lambda&gt; at 0x7fe3bea35990&gt;)</pre></div></div></div></div></div><div class=\"sk-item\"><div class=\"sk-estimator sk-toggleable\"><input class=\"sk-toggleable__control sk-hidden--visually\" id=\"sk-estimator-id-20\" type=\"checkbox\" ><label for=\"sk-estimator-id-20\" class=\"sk-toggleable__label sk-toggleable__label-arrow\">SVC</label><div class=\"sk-toggleable__content\"><pre>SVC()</pre></div></div></div></div></div></div></div>"
      ],
      "text/plain": [
       "Pipeline(steps=[('pipeline',\n",
       "                 Pipeline(steps=[('preprocess_pipeline',\n",
       "                                  FunctionTransformer(func=<function preprocess_texts at 0x7fe3bea352d0>,\n",
       "                                                      kw_args={'stem_lemm': 'stem'})),\n",
       "                                 ('vectorizer_pipeline',\n",
       "                                  TfidfVectorizer(min_df=0.005,\n",
       "                                                  tokenizer=<function <lambda> at 0x7fe3bea35990>))])),\n",
       "                ('svc', SVC())])"
      ]
     },
     "execution_count": 22,
     "metadata": {},
     "output_type": "execute_result"
    }
   ],
   "source": [
    "# train the model\n",
    "model = SVC()\n",
    "model.fit(X_train_vec[\"google news\"], y_train)"
   ]
  },
  {
   "cell_type": "code",
   "execution_count": 23,
   "metadata": {},
   "outputs": [
    {
     "name": "stdout",
     "output_type": "stream",
     "text": [
      "              precision    recall  f1-score   support\n",
      "\n",
      "           0       0.70      0.43      0.53      1572\n",
      "           1       0.58      0.79      0.67      2236\n",
      "           2       0.76      0.66      0.71      1688\n",
      "\n",
      "    accuracy                           0.65      5496\n",
      "   macro avg       0.68      0.63      0.63      5496\n",
      "weighted avg       0.67      0.65      0.64      5496\n",
      "\n"
     ]
    },
    {
     "data": {
      "image/png": "[encoded data removed]",
      "text/plain": [
       "<Figure size 1000x1000 with 2 Axes>"
      ]
     },
     "metadata": {},
     "output_type": "display_data"
    }
   ],
   "source": [
    "# Evaluation du modèle\n",
    "y_pred = model.predict(X_test)\n",
    "print(classification_report(y_test, y_pred))\n",
    "\n",
    "# Matrice de confusion\n",
    "\n",
    "conf_mat = confusion_matrix(y_test, y_pred)\n",
    "fig, ax = plt.subplots(figsize=(10,10))\n",
    "sns.heatmap(conf_mat, annot=True, fmt='d',\n",
    "            xticklabels=tweet_df['sentiment'].unique(), yticklabels=tweet_df['sentiment'].unique())\n",
    "plt.ylabel('Actual')\n",
    "plt.xlabel('Predicted')\n",
    "plt.show()"
   ]
  }
 ],
 "metadata": {
  "kernelspec": {
   "display_name": "Python 3",
   "language": "python",
   "name": "python3"
  },
  "language_info": {
   "codemirror_mode": {
    "name": "ipython",
    "version": 3
   },
   "file_extension": ".py",
   "mimetype": "text/x-python",
   "name": "python",
   "nbconvert_exporter": "python",
   "pygments_lexer": "ipython3",
   "version": "3.10.6"
  },
  "orig_nbformat": 4
 },
 "nbformat": 4,
 "nbformat_minor": 2
}
